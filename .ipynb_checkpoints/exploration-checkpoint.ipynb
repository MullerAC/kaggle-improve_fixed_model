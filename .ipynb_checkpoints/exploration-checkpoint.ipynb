{
 "cells": [
  {
   "cell_type": "code",
   "execution_count": null,
   "id": "b0d9a392-2e50-4f29-baf2-3c1cf05a7cb5",
   "metadata": {},
   "outputs": [],
   "source": [
    "from sklearn.ensemble import RandomForestRegressor"
   ]
  },
  {
   "cell_type": "code",
   "execution_count": null,
   "id": "ad059eec-fef4-4f4e-8851-b90c88d269a3",
   "metadata": {},
   "outputs": [],
   "source": [
    "y_train = train.pop('target') # train is your submission!"
   ]
  },
  {
   "cell_type": "code",
   "execution_count": null,
   "id": "fdb9b32a-d6a3-4a2f-9761-356c6a004dea",
   "metadata": {},
   "outputs": [],
   "source": [
    "rf = RandomForestRegressor(\n",
    "       n_estimators=1000,\n",
    "       max_depth=7,\n",
    "       n_jobs=-1,\n",
    "       random_state=42)\n",
    "rf.fit(train, y_train)"
   ]
  },
  {
   "cell_type": "code",
   "execution_count": null,
   "id": "7ace1439-3b43-411b-a016-de0bc21a9ddf",
   "metadata": {},
   "outputs": [],
   "source": [
    "y_hat = rf.predict(test) # test set is hidden from you"
   ]
  }
 ],
 "metadata": {
  "kernelspec": {
   "display_name": "Python 3 (ipykernel)",
   "language": "python",
   "name": "python3"
  },
  "language_info": {
   "codemirror_mode": {
    "name": "ipython",
    "version": 3
   },
   "file_extension": ".py",
   "mimetype": "text/x-python",
   "name": "python",
   "nbconvert_exporter": "python",
   "pygments_lexer": "ipython3",
   "version": "3.11.4"
  }
 },
 "nbformat": 4,
 "nbformat_minor": 5
}
